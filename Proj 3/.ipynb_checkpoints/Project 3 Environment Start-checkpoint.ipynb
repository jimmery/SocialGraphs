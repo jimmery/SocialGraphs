{
 "cells": [
  {
   "cell_type": "code",
   "execution_count": 10,
   "metadata": {},
   "outputs": [],
   "source": [
    "library('igraph')\n",
    "library('Matrix')\n",
    "library('pracma')"
   ]
  },
  {
   "cell_type": "code",
   "execution_count": 1,
   "metadata": {},
   "outputs": [],
   "source": [
    "moves = c( 'u', 'd', 'l', 'r')"
   ]
  },
  {
   "cell_type": "code",
   "execution_count": 2,
   "metadata": {},
   "outputs": [
    {
     "data": {
      "text/html": [
       "<ol class=list-inline>\n",
       "\t<li>'u'</li>\n",
       "\t<li>'d'</li>\n",
       "\t<li>'l'</li>\n",
       "\t<li>'r'</li>\n",
       "</ol>\n"
      ],
      "text/latex": [
       "\\begin{enumerate*}\n",
       "\\item 'u'\n",
       "\\item 'd'\n",
       "\\item 'l'\n",
       "\\item 'r'\n",
       "\\end{enumerate*}\n"
      ],
      "text/markdown": [
       "1. 'u'\n",
       "2. 'd'\n",
       "3. 'l'\n",
       "4. 'r'\n",
       "\n",
       "\n"
      ],
      "text/plain": [
       "[1] \"u\" \"d\" \"l\" \"r\""
      ]
     },
     "metadata": {},
     "output_type": "display_data"
    }
   ],
   "source": [
    "moves"
   ]
  },
  {
   "cell_type": "code",
   "execution_count": 5,
   "metadata": {},
   "outputs": [
    {
     "data": {
      "text/html": [
       "0.130866632331163"
      ],
      "text/latex": [
       "0.130866632331163"
      ],
      "text/markdown": [
       "0.130866632331163"
      ],
      "text/plain": [
       "[1] 0.1308666"
      ]
     },
     "metadata": {},
     "output_type": "display_data"
    }
   ],
   "source": [
    "runif(1, 0, 1)"
   ]
  },
  {
   "cell_type": "code",
   "execution_count": 4,
   "metadata": {},
   "outputs": [
    {
     "data": {
      "text/html": [
       "'r'"
      ],
      "text/latex": [
       "'r'"
      ],
      "text/markdown": [
       "'r'"
      ],
      "text/plain": [
       "[1] \"r\""
      ]
     },
     "metadata": {},
     "output_type": "display_data"
    }
   ],
   "source": [
    "sample(moves, 1)"
   ]
  },
  {
   "cell_type": "code",
   "execution_count": 38,
   "metadata": {},
   "outputs": [],
   "source": [
    "environment.action = function( current_loc, direction, wind_prob=0.1 ) {\n",
    "    moves <- c('u', 'd', 'l', 'r')\n",
    "    if ( runif(1, 0, 1) < wind_prob ) {\n",
    "        return (environment.move(current_loc, sample(moves, 1)))\n",
    "    }\n",
    "    return (environment.move(current_loc, direction))\n",
    "}"
   ]
  },
  {
   "cell_type": "code",
   "execution_count": 39,
   "metadata": {},
   "outputs": [],
   "source": [
    "environment.action.probability = function( current_loc, direction, wind_prob ) {\n",
    "    transition_matrix <- numeric(100)\n",
    "    \n",
    "    transition_matrix[environment.move(current_loc, direction) + 1] <- (1 - wind_prob)\n",
    "    \n",
    "    up_loc = environment.move(current_loc, 'u')\n",
    "    down_loc = environment.move(current_loc, 'd')\n",
    "    left_loc = environment.move(current_loc, 'l')\n",
    "    right_loc = environment.move(current_loc, 'r')\n",
    "    \n",
    "    transition_matrix[up_loc + 1] <- transition_matrix[up_loc + 1] + wind_prob / 4\n",
    "    transition_matrix[down_loc + 1] <- transition_matrix[down_loc + 1] + wind_prob / 4\n",
    "    transition_matrix[left_loc + 1] <- transition_matrix[left_loc + 1] + wind_prob / 4\n",
    "    transition_matrix[right_loc + 1] <- transition_matrix[right_loc + 1] + wind_prob / 4\n",
    "    \n",
    "    return(transition_matrix)\n",
    "}"
   ]
  },
  {
   "cell_type": "code",
   "execution_count": 42,
   "metadata": {},
   "outputs": [
    {
     "data": {
      "text/html": [
       "<table>\n",
       "<tbody>\n",
       "\t<tr><td>0.90</td><td>0.05</td><td>0   </td><td>0   </td><td>0   </td><td>0   </td><td>0   </td><td>0   </td><td>0   </td><td>0   </td></tr>\n",
       "\t<tr><td>0.05</td><td>0.00</td><td>0   </td><td>0   </td><td>0   </td><td>0   </td><td>0   </td><td>0   </td><td>0   </td><td>0   </td></tr>\n",
       "\t<tr><td>0.00</td><td>0.00</td><td>0   </td><td>0   </td><td>0   </td><td>0   </td><td>0   </td><td>0   </td><td>0   </td><td>0   </td></tr>\n",
       "\t<tr><td>0.00</td><td>0.00</td><td>0   </td><td>0   </td><td>0   </td><td>0   </td><td>0   </td><td>0   </td><td>0   </td><td>0   </td></tr>\n",
       "\t<tr><td>0.00</td><td>0.00</td><td>0   </td><td>0   </td><td>0   </td><td>0   </td><td>0   </td><td>0   </td><td>0   </td><td>0   </td></tr>\n",
       "\t<tr><td>0.00</td><td>0.00</td><td>0   </td><td>0   </td><td>0   </td><td>0   </td><td>0   </td><td>0   </td><td>0   </td><td>0   </td></tr>\n",
       "\t<tr><td>0.00</td><td>0.00</td><td>0   </td><td>0   </td><td>0   </td><td>0   </td><td>0   </td><td>0   </td><td>0   </td><td>0   </td></tr>\n",
       "\t<tr><td>0.00</td><td>0.00</td><td>0   </td><td>0   </td><td>0   </td><td>0   </td><td>0   </td><td>0   </td><td>0   </td><td>0   </td></tr>\n",
       "\t<tr><td>0.00</td><td>0.00</td><td>0   </td><td>0   </td><td>0   </td><td>0   </td><td>0   </td><td>0   </td><td>0   </td><td>0   </td></tr>\n",
       "\t<tr><td>0.00</td><td>0.00</td><td>0   </td><td>0   </td><td>0   </td><td>0   </td><td>0   </td><td>0   </td><td>0   </td><td>0   </td></tr>\n",
       "</tbody>\n",
       "</table>\n"
      ],
      "text/latex": [
       "\\begin{tabular}{llllllllll}\n",
       "\t 0.90 & 0.05 & 0    & 0    & 0    & 0    & 0    & 0    & 0    & 0   \\\\\n",
       "\t 0.05 & 0.00 & 0    & 0    & 0    & 0    & 0    & 0    & 0    & 0   \\\\\n",
       "\t 0.00 & 0.00 & 0    & 0    & 0    & 0    & 0    & 0    & 0    & 0   \\\\\n",
       "\t 0.00 & 0.00 & 0    & 0    & 0    & 0    & 0    & 0    & 0    & 0   \\\\\n",
       "\t 0.00 & 0.00 & 0    & 0    & 0    & 0    & 0    & 0    & 0    & 0   \\\\\n",
       "\t 0.00 & 0.00 & 0    & 0    & 0    & 0    & 0    & 0    & 0    & 0   \\\\\n",
       "\t 0.00 & 0.00 & 0    & 0    & 0    & 0    & 0    & 0    & 0    & 0   \\\\\n",
       "\t 0.00 & 0.00 & 0    & 0    & 0    & 0    & 0    & 0    & 0    & 0   \\\\\n",
       "\t 0.00 & 0.00 & 0    & 0    & 0    & 0    & 0    & 0    & 0    & 0   \\\\\n",
       "\t 0.00 & 0.00 & 0    & 0    & 0    & 0    & 0    & 0    & 0    & 0   \\\\\n",
       "\\end{tabular}\n"
      ],
      "text/markdown": [
       "\n",
       "| 0.90 | 0.05 | 0    | 0    | 0    | 0    | 0    | 0    | 0    | 0    | \n",
       "| 0.05 | 0.00 | 0    | 0    | 0    | 0    | 0    | 0    | 0    | 0    | \n",
       "| 0.00 | 0.00 | 0    | 0    | 0    | 0    | 0    | 0    | 0    | 0    | \n",
       "| 0.00 | 0.00 | 0    | 0    | 0    | 0    | 0    | 0    | 0    | 0    | \n",
       "| 0.00 | 0.00 | 0    | 0    | 0    | 0    | 0    | 0    | 0    | 0    | \n",
       "| 0.00 | 0.00 | 0    | 0    | 0    | 0    | 0    | 0    | 0    | 0    | \n",
       "| 0.00 | 0.00 | 0    | 0    | 0    | 0    | 0    | 0    | 0    | 0    | \n",
       "| 0.00 | 0.00 | 0    | 0    | 0    | 0    | 0    | 0    | 0    | 0    | \n",
       "| 0.00 | 0.00 | 0    | 0    | 0    | 0    | 0    | 0    | 0    | 0    | \n",
       "| 0.00 | 0.00 | 0    | 0    | 0    | 0    | 0    | 0    | 0    | 0    | \n",
       "\n",
       "\n"
      ],
      "text/plain": [
       "      [,1] [,2] [,3] [,4] [,5] [,6] [,7] [,8] [,9] [,10]\n",
       " [1,] 0.90 0.05 0    0    0    0    0    0    0    0    \n",
       " [2,] 0.05 0.00 0    0    0    0    0    0    0    0    \n",
       " [3,] 0.00 0.00 0    0    0    0    0    0    0    0    \n",
       " [4,] 0.00 0.00 0    0    0    0    0    0    0    0    \n",
       " [5,] 0.00 0.00 0    0    0    0    0    0    0    0    \n",
       " [6,] 0.00 0.00 0    0    0    0    0    0    0    0    \n",
       " [7,] 0.00 0.00 0    0    0    0    0    0    0    0    \n",
       " [8,] 0.00 0.00 0    0    0    0    0    0    0    0    \n",
       " [9,] 0.00 0.00 0    0    0    0    0    0    0    0    \n",
       "[10,] 0.00 0.00 0    0    0    0    0    0    0    0    "
      ]
     },
     "metadata": {},
     "output_type": "display_data"
    }
   ],
   "source": [
    "matrix(environment.action.probability(0, 'u', 0.2), nrow = 10, ncol = 10, byrow = F)"
   ]
  },
  {
   "cell_type": "code",
   "execution_count": 40,
   "metadata": {},
   "outputs": [],
   "source": [
    "environment.move = function (current_loc, direction) {\n",
    "    moves = c('u', 'd', 'l', 'r')\n",
    "    if ( !(direction %in% moves)) {\n",
    "        stop(\"direction is not a valid direction\")\n",
    "    }\n",
    "    \n",
    "    next_loc = 0;\n",
    "    if (direction == 'u') {\n",
    "        if (mod(current_loc, 10) == 0) next_loc = current_loc\n",
    "        else next_loc = current_loc - 1\n",
    "    } else if (direction == 'd') {\n",
    "        if (mod(current_loc, 10) == 9) next_loc = current_loc\n",
    "        else next_loc = current_loc + 1\n",
    "    } else if (direction == 'l') {\n",
    "        if (current_loc < 10) next_loc = current_loc\n",
    "        else next_loc = current_loc - 10\n",
    "    } else {\n",
    "        if (current_loc >= 90) next_loc = current_loc\n",
    "        else next_loc = current_loc + 10\n",
    "    }\n",
    "}"
   ]
  },
  {
   "cell_type": "code",
   "execution_count": 24,
   "metadata": {},
   "outputs": [],
   "source": [
    "environment.reward = function( num = 1 ) {\n",
    "    reward = numeric(100)\n",
    "    if ( num == 1 ) {\n",
    "        reward[100] = 1\n",
    "        return (reward)\n",
    "    }\n",
    "    \n",
    "    walls <- c(41, 42, 43, 44, 45, 46, 51, 61, 62, 63, 67, 68, 73, 77, 83, 84, 85, 86, 87)\n",
    "    walls <- walls + 1\n",
    "    reward[walls] <- -100\n",
    "    reward[100] <- 10\n",
    "    return(reward)\n",
    "}"
   ]
  },
  {
   "cell_type": "code",
   "execution_count": 31,
   "metadata": {},
   "outputs": [
    {
     "data": {
      "text/html": [
       "<table>\n",
       "<tbody>\n",
       "\t<tr><td>0</td><td>0</td><td>0</td><td>0</td><td>0</td><td>0</td><td>0</td><td>0</td><td>0</td><td>0</td></tr>\n",
       "\t<tr><td>0</td><td>0</td><td>0</td><td>0</td><td>0</td><td>0</td><td>0</td><td>0</td><td>0</td><td>0</td></tr>\n",
       "\t<tr><td>0</td><td>0</td><td>0</td><td>0</td><td>0</td><td>0</td><td>0</td><td>0</td><td>0</td><td>0</td></tr>\n",
       "\t<tr><td>0</td><td>0</td><td>0</td><td>0</td><td>0</td><td>0</td><td>0</td><td>0</td><td>0</td><td>0</td></tr>\n",
       "\t<tr><td>0</td><td>0</td><td>0</td><td>0</td><td>0</td><td>0</td><td>0</td><td>0</td><td>0</td><td>0</td></tr>\n",
       "\t<tr><td>0</td><td>0</td><td>0</td><td>0</td><td>0</td><td>0</td><td>0</td><td>0</td><td>0</td><td>0</td></tr>\n",
       "\t<tr><td>0</td><td>0</td><td>0</td><td>0</td><td>0</td><td>0</td><td>0</td><td>0</td><td>0</td><td>0</td></tr>\n",
       "\t<tr><td>0</td><td>0</td><td>0</td><td>0</td><td>0</td><td>0</td><td>0</td><td>0</td><td>0</td><td>0</td></tr>\n",
       "\t<tr><td>0</td><td>0</td><td>0</td><td>0</td><td>0</td><td>0</td><td>0</td><td>0</td><td>0</td><td>0</td></tr>\n",
       "\t<tr><td>0</td><td>0</td><td>0</td><td>0</td><td>0</td><td>0</td><td>0</td><td>0</td><td>0</td><td>1</td></tr>\n",
       "</tbody>\n",
       "</table>\n"
      ],
      "text/latex": [
       "\\begin{tabular}{llllllllll}\n",
       "\t 0 & 0 & 0 & 0 & 0 & 0 & 0 & 0 & 0 & 0\\\\\n",
       "\t 0 & 0 & 0 & 0 & 0 & 0 & 0 & 0 & 0 & 0\\\\\n",
       "\t 0 & 0 & 0 & 0 & 0 & 0 & 0 & 0 & 0 & 0\\\\\n",
       "\t 0 & 0 & 0 & 0 & 0 & 0 & 0 & 0 & 0 & 0\\\\\n",
       "\t 0 & 0 & 0 & 0 & 0 & 0 & 0 & 0 & 0 & 0\\\\\n",
       "\t 0 & 0 & 0 & 0 & 0 & 0 & 0 & 0 & 0 & 0\\\\\n",
       "\t 0 & 0 & 0 & 0 & 0 & 0 & 0 & 0 & 0 & 0\\\\\n",
       "\t 0 & 0 & 0 & 0 & 0 & 0 & 0 & 0 & 0 & 0\\\\\n",
       "\t 0 & 0 & 0 & 0 & 0 & 0 & 0 & 0 & 0 & 0\\\\\n",
       "\t 0 & 0 & 0 & 0 & 0 & 0 & 0 & 0 & 0 & 1\\\\\n",
       "\\end{tabular}\n"
      ],
      "text/markdown": [
       "\n",
       "| 0 | 0 | 0 | 0 | 0 | 0 | 0 | 0 | 0 | 0 | \n",
       "| 0 | 0 | 0 | 0 | 0 | 0 | 0 | 0 | 0 | 0 | \n",
       "| 0 | 0 | 0 | 0 | 0 | 0 | 0 | 0 | 0 | 0 | \n",
       "| 0 | 0 | 0 | 0 | 0 | 0 | 0 | 0 | 0 | 0 | \n",
       "| 0 | 0 | 0 | 0 | 0 | 0 | 0 | 0 | 0 | 0 | \n",
       "| 0 | 0 | 0 | 0 | 0 | 0 | 0 | 0 | 0 | 0 | \n",
       "| 0 | 0 | 0 | 0 | 0 | 0 | 0 | 0 | 0 | 0 | \n",
       "| 0 | 0 | 0 | 0 | 0 | 0 | 0 | 0 | 0 | 0 | \n",
       "| 0 | 0 | 0 | 0 | 0 | 0 | 0 | 0 | 0 | 0 | \n",
       "| 0 | 0 | 0 | 0 | 0 | 0 | 0 | 0 | 0 | 1 | \n",
       "\n",
       "\n"
      ],
      "text/plain": [
       "      [,1] [,2] [,3] [,4] [,5] [,6] [,7] [,8] [,9] [,10]\n",
       " [1,] 0    0    0    0    0    0    0    0    0    0    \n",
       " [2,] 0    0    0    0    0    0    0    0    0    0    \n",
       " [3,] 0    0    0    0    0    0    0    0    0    0    \n",
       " [4,] 0    0    0    0    0    0    0    0    0    0    \n",
       " [5,] 0    0    0    0    0    0    0    0    0    0    \n",
       " [6,] 0    0    0    0    0    0    0    0    0    0    \n",
       " [7,] 0    0    0    0    0    0    0    0    0    0    \n",
       " [8,] 0    0    0    0    0    0    0    0    0    0    \n",
       " [9,] 0    0    0    0    0    0    0    0    0    0    \n",
       "[10,] 0    0    0    0    0    0    0    0    0    1    "
      ]
     },
     "metadata": {},
     "output_type": "display_data"
    },
    {
     "data": {
      "text/html": [
       "<table>\n",
       "<tbody>\n",
       "\t<tr><td>0   </td><td>0   </td><td>0   </td><td>0   </td><td>   0</td><td>   0</td><td>   0</td><td>   0</td><td>   0</td><td> 0  </td></tr>\n",
       "\t<tr><td>0   </td><td>0   </td><td>0   </td><td>0   </td><td>-100</td><td>-100</td><td>-100</td><td>   0</td><td>   0</td><td> 0  </td></tr>\n",
       "\t<tr><td>0   </td><td>0   </td><td>0   </td><td>0   </td><td>-100</td><td>   0</td><td>-100</td><td>   0</td><td>   0</td><td> 0  </td></tr>\n",
       "\t<tr><td>0   </td><td>0   </td><td>0   </td><td>0   </td><td>-100</td><td>   0</td><td>-100</td><td>-100</td><td>-100</td><td> 0  </td></tr>\n",
       "\t<tr><td>0   </td><td>0   </td><td>0   </td><td>0   </td><td>-100</td><td>   0</td><td>   0</td><td>   0</td><td>-100</td><td> 0  </td></tr>\n",
       "\t<tr><td>0   </td><td>0   </td><td>0   </td><td>0   </td><td>-100</td><td>   0</td><td>   0</td><td>   0</td><td>-100</td><td> 0  </td></tr>\n",
       "\t<tr><td>0   </td><td>0   </td><td>0   </td><td>0   </td><td>-100</td><td>   0</td><td>   0</td><td>   0</td><td>-100</td><td> 0  </td></tr>\n",
       "\t<tr><td>0   </td><td>0   </td><td>0   </td><td>0   </td><td>   0</td><td>   0</td><td>-100</td><td>-100</td><td>-100</td><td> 0  </td></tr>\n",
       "\t<tr><td>0   </td><td>0   </td><td>0   </td><td>0   </td><td>   0</td><td>   0</td><td>-100</td><td>   0</td><td>   0</td><td> 0  </td></tr>\n",
       "\t<tr><td>0   </td><td>0   </td><td>0   </td><td>0   </td><td>   0</td><td>   0</td><td>   0</td><td>   0</td><td>   0</td><td>10  </td></tr>\n",
       "</tbody>\n",
       "</table>\n"
      ],
      "text/latex": [
       "\\begin{tabular}{llllllllll}\n",
       "\t 0    & 0    & 0    & 0    &    0 &    0 &    0 &    0 &    0 &  0  \\\\\n",
       "\t 0    & 0    & 0    & 0    & -100 & -100 & -100 &    0 &    0 &  0  \\\\\n",
       "\t 0    & 0    & 0    & 0    & -100 &    0 & -100 &    0 &    0 &  0  \\\\\n",
       "\t 0    & 0    & 0    & 0    & -100 &    0 & -100 & -100 & -100 &  0  \\\\\n",
       "\t 0    & 0    & 0    & 0    & -100 &    0 &    0 &    0 & -100 &  0  \\\\\n",
       "\t 0    & 0    & 0    & 0    & -100 &    0 &    0 &    0 & -100 &  0  \\\\\n",
       "\t 0    & 0    & 0    & 0    & -100 &    0 &    0 &    0 & -100 &  0  \\\\\n",
       "\t 0    & 0    & 0    & 0    &    0 &    0 & -100 & -100 & -100 &  0  \\\\\n",
       "\t 0    & 0    & 0    & 0    &    0 &    0 & -100 &    0 &    0 &  0  \\\\\n",
       "\t 0    & 0    & 0    & 0    &    0 &    0 &    0 &    0 &    0 & 10  \\\\\n",
       "\\end{tabular}\n"
      ],
      "text/markdown": [
       "\n",
       "| 0    | 0    | 0    | 0    |    0 |    0 |    0 |    0 |    0 |  0   | \n",
       "| 0    | 0    | 0    | 0    | -100 | -100 | -100 |    0 |    0 |  0   | \n",
       "| 0    | 0    | 0    | 0    | -100 |    0 | -100 |    0 |    0 |  0   | \n",
       "| 0    | 0    | 0    | 0    | -100 |    0 | -100 | -100 | -100 |  0   | \n",
       "| 0    | 0    | 0    | 0    | -100 |    0 |    0 |    0 | -100 |  0   | \n",
       "| 0    | 0    | 0    | 0    | -100 |    0 |    0 |    0 | -100 |  0   | \n",
       "| 0    | 0    | 0    | 0    | -100 |    0 |    0 |    0 | -100 |  0   | \n",
       "| 0    | 0    | 0    | 0    |    0 |    0 | -100 | -100 | -100 |  0   | \n",
       "| 0    | 0    | 0    | 0    |    0 |    0 | -100 |    0 |    0 |  0   | \n",
       "| 0    | 0    | 0    | 0    |    0 |    0 |    0 |    0 |    0 | 10   | \n",
       "\n",
       "\n"
      ],
      "text/plain": [
       "      [,1] [,2] [,3] [,4] [,5] [,6] [,7] [,8] [,9] [,10]\n",
       " [1,] 0    0    0    0       0    0    0    0    0  0   \n",
       " [2,] 0    0    0    0    -100 -100 -100    0    0  0   \n",
       " [3,] 0    0    0    0    -100    0 -100    0    0  0   \n",
       " [4,] 0    0    0    0    -100    0 -100 -100 -100  0   \n",
       " [5,] 0    0    0    0    -100    0    0    0 -100  0   \n",
       " [6,] 0    0    0    0    -100    0    0    0 -100  0   \n",
       " [7,] 0    0    0    0    -100    0    0    0 -100  0   \n",
       " [8,] 0    0    0    0       0    0 -100 -100 -100  0   \n",
       " [9,] 0    0    0    0       0    0 -100    0    0  0   \n",
       "[10,] 0    0    0    0       0    0    0    0    0 10   "
      ]
     },
     "metadata": {},
     "output_type": "display_data"
    },
    {
     "data": {
      "image/png": "[encoded data removed]",
      "text/plain": [
       "plot without title"
      ]
     },
     "metadata": {},
     "output_type": "display_data"
    },
    {
     "data": {
      "image/png": "[encoded data removed]",
      "text/plain": [
       "plot without title"
      ]
     },
     "metadata": {},
     "output_type": "display_data"
    }
   ],
   "source": [
    "env <- environment.reward()\n",
    "environment.to.matrix(env)\n",
    "environment.to.heatmap(env)\n",
    "\n",
    "env <- environment.reward(2)\n",
    "environment.to.matrix(env)\n",
    "environment.to.heatmap(env)\n",
    "\n",
    "## TODO may need to do some reordering / recoloring / legends etc."
   ]
  },
  {
   "cell_type": "code",
   "execution_count": 89,
   "metadata": {},
   "outputs": [],
   "source": [
    "environment.value.iteration.estimation = function ( wind_prob=0.1, reward_type=1, discount=0.8, epsilon=0.01 ) {\n",
    "    states <- 0:99\n",
    "    values <- numeric(100) # initializes no values.\n",
    "    actions <- c('u','d','l','r')\n",
    "    reward <- environment.reward(reward_type)\n",
    "    \n",
    "    change <- epsilon + 1 # just to make sure that the while loop starts. \n",
    "    while (change > epsilon) {\n",
    "        change <- 0\n",
    "        for ( s in states ) {\n",
    "            current_value <- values[s+1]\n",
    "            action_values <- numeric(length(actions))\n",
    "            for ( i in 1:length(actions) ) {\n",
    "                action_values[i] <- sum(environment.action.probability(s, actions[i], wind_prob) * (reward + discount * values))\n",
    "            }\n",
    "            values[s+1] <- max(action_values) \n",
    "            change <- max(change, abs(current_value - values[s+1])) # need to change some stuff here as well. \n",
    "        }\n",
    "    }\n",
    "    \n",
    "    return(values)\n",
    "    \n",
    "#     for ( s in states ) {\n",
    "        \n",
    "#     }\n",
    "}"
   ]
  },
  {
   "cell_type": "code",
   "execution_count": 76,
   "metadata": {},
   "outputs": [],
   "source": [
    "environment.to.matrix = function( environment_list ) {\n",
    "    matrix(environment_list, nrow=10, ncol=10, byrow=F)\n",
    "}"
   ]
  },
  {
   "cell_type": "code",
   "execution_count": 78,
   "metadata": {},
   "outputs": [],
   "source": [
    "environment.to.heatmap = function( environment_list ) {\n",
    "    mat <- environment.to.matrix(environment_list)\n",
    "    heatmap(mat, Rowv=NA, Colv=NA, col = cm.colors(256), scale=\"none\")\n",
    "}"
   ]
  },
  {
   "cell_type": "code",
   "execution_count": 77,
   "metadata": {},
   "outputs": [
    {
     "data": {
      "text/html": [
       "<table>\n",
       "<tbody>\n",
       "\t<tr><td>0.04179568</td><td>0.06283791</td><td>0.0897420 </td><td>0.1238490 </td><td>0.1670810 </td><td>0.2218829 </td><td>0.2913538 </td><td>0.3794201 </td><td>0.4909829 </td><td>0.6096477 </td></tr>\n",
       "\t<tr><td>0.06283791</td><td>0.08787011</td><td>0.1215573 </td><td>0.1645136 </td><td>0.2192461 </td><td>0.2889898 </td><td>0.3778711 </td><td>0.4910606 </td><td>0.6332185 </td><td>0.7873540 </td></tr>\n",
       "\t<tr><td>0.08974200</td><td>0.12155728</td><td>0.1643899 </td><td>0.2191320 </td><td>0.2889033 </td><td>0.3778265 </td><td>0.4911559 </td><td>0.6354902 </td><td>0.8173553 </td><td>1.0185972 </td></tr>\n",
       "\t<tr><td>0.12384898</td><td>0.16451357</td><td>0.2191320 </td><td>0.2888998 </td><td>0.3778248 </td><td>0.4911592 </td><td>0.6356006 </td><td>0.8196095 </td><td>1.0521911 </td><td>1.3150586 </td></tr>\n",
       "\t<tr><td>0.16708096</td><td>0.21924607</td><td>0.2889033 </td><td>0.3778248 </td><td>0.4911592 </td><td>0.6356033 </td><td>0.8196951 </td><td>1.0542651 </td><td>1.3515715 </td><td>1.6950728 </td></tr>\n",
       "\t<tr><td>0.22188288</td><td>0.28898976</td><td>0.3778265 </td><td>0.4911592 </td><td>0.6356033 </td><td>0.8196963 </td><td>1.0543216 </td><td>1.3533241 </td><td>1.7331801 </td><td>2.1822311 </td></tr>\n",
       "\t<tr><td>0.29135376</td><td>0.37787112</td><td>0.4911559 </td><td>0.6356006 </td><td>0.8196951 </td><td>1.0543216 </td><td>1.3533508 </td><td>1.7344608 </td><td>2.2195268 </td><td>2.8068024 </td></tr>\n",
       "\t<tr><td>0.37942014</td><td>0.49106061</td><td>0.6354902 </td><td>0.8196095 </td><td>1.0542651 </td><td>1.3533241 </td><td>1.7344608 </td><td>2.2202015 </td><td>2.8392570 </td><td>3.6076263 </td></tr>\n",
       "\t<tr><td>0.49098293</td><td>0.63321853</td><td>0.8173553 </td><td>1.0521911 </td><td>1.3515715 </td><td>1.7331801 </td><td>2.2195268 </td><td>2.8392570 </td><td>3.6288138 </td><td>4.6345471 </td></tr>\n",
       "\t<tr><td>0.60964773</td><td>0.78735399</td><td>1.0185972 </td><td>1.3150586 </td><td>1.6950728 </td><td>2.1822311 </td><td>2.8068024 </td><td>3.6076263 </td><td>4.6345471 </td><td>4.7015400 </td></tr>\n",
       "</tbody>\n",
       "</table>\n"
      ],
      "text/latex": [
       "\\begin{tabular}{llllllllll}\n",
       "\t 0.04179568 & 0.06283791 & 0.0897420  & 0.1238490  & 0.1670810  & 0.2218829  & 0.2913538  & 0.3794201  & 0.4909829  & 0.6096477 \\\\\n",
       "\t 0.06283791 & 0.08787011 & 0.1215573  & 0.1645136  & 0.2192461  & 0.2889898  & 0.3778711  & 0.4910606  & 0.6332185  & 0.7873540 \\\\\n",
       "\t 0.08974200 & 0.12155728 & 0.1643899  & 0.2191320  & 0.2889033  & 0.3778265  & 0.4911559  & 0.6354902  & 0.8173553  & 1.0185972 \\\\\n",
       "\t 0.12384898 & 0.16451357 & 0.2191320  & 0.2888998  & 0.3778248  & 0.4911592  & 0.6356006  & 0.8196095  & 1.0521911  & 1.3150586 \\\\\n",
       "\t 0.16708096 & 0.21924607 & 0.2889033  & 0.3778248  & 0.4911592  & 0.6356033  & 0.8196951  & 1.0542651  & 1.3515715  & 1.6950728 \\\\\n",
       "\t 0.22188288 & 0.28898976 & 0.3778265  & 0.4911592  & 0.6356033  & 0.8196963  & 1.0543216  & 1.3533241  & 1.7331801  & 2.1822311 \\\\\n",
       "\t 0.29135376 & 0.37787112 & 0.4911559  & 0.6356006  & 0.8196951  & 1.0543216  & 1.3533508  & 1.7344608  & 2.2195268  & 2.8068024 \\\\\n",
       "\t 0.37942014 & 0.49106061 & 0.6354902  & 0.8196095  & 1.0542651  & 1.3533241  & 1.7344608  & 2.2202015  & 2.8392570  & 3.6076263 \\\\\n",
       "\t 0.49098293 & 0.63321853 & 0.8173553  & 1.0521911  & 1.3515715  & 1.7331801  & 2.2195268  & 2.8392570  & 3.6288138  & 4.6345471 \\\\\n",
       "\t 0.60964773 & 0.78735399 & 1.0185972  & 1.3150586  & 1.6950728  & 2.1822311  & 2.8068024  & 3.6076263  & 4.6345471  & 4.7015400 \\\\\n",
       "\\end{tabular}\n"
      ],
      "text/markdown": [
       "\n",
       "| 0.04179568 | 0.06283791 | 0.0897420  | 0.1238490  | 0.1670810  | 0.2218829  | 0.2913538  | 0.3794201  | 0.4909829  | 0.6096477  | \n",
       "| 0.06283791 | 0.08787011 | 0.1215573  | 0.1645136  | 0.2192461  | 0.2889898  | 0.3778711  | 0.4910606  | 0.6332185  | 0.7873540  | \n",
       "| 0.08974200 | 0.12155728 | 0.1643899  | 0.2191320  | 0.2889033  | 0.3778265  | 0.4911559  | 0.6354902  | 0.8173553  | 1.0185972  | \n",
       "| 0.12384898 | 0.16451357 | 0.2191320  | 0.2888998  | 0.3778248  | 0.4911592  | 0.6356006  | 0.8196095  | 1.0521911  | 1.3150586  | \n",
       "| 0.16708096 | 0.21924607 | 0.2889033  | 0.3778248  | 0.4911592  | 0.6356033  | 0.8196951  | 1.0542651  | 1.3515715  | 1.6950728  | \n",
       "| 0.22188288 | 0.28898976 | 0.3778265  | 0.4911592  | 0.6356033  | 0.8196963  | 1.0543216  | 1.3533241  | 1.7331801  | 2.1822311  | \n",
       "| 0.29135376 | 0.37787112 | 0.4911559  | 0.6356006  | 0.8196951  | 1.0543216  | 1.3533508  | 1.7344608  | 2.2195268  | 2.8068024  | \n",
       "| 0.37942014 | 0.49106061 | 0.6354902  | 0.8196095  | 1.0542651  | 1.3533241  | 1.7344608  | 2.2202015  | 2.8392570  | 3.6076263  | \n",
       "| 0.49098293 | 0.63321853 | 0.8173553  | 1.0521911  | 1.3515715  | 1.7331801  | 2.2195268  | 2.8392570  | 3.6288138  | 4.6345471  | \n",
       "| 0.60964773 | 0.78735399 | 1.0185972  | 1.3150586  | 1.6950728  | 2.1822311  | 2.8068024  | 3.6076263  | 4.6345471  | 4.7015400  | \n",
       "\n",
       "\n"
      ],
      "text/plain": [
       "      [,1]       [,2]       [,3]      [,4]      [,5]      [,6]      [,7]     \n",
       " [1,] 0.04179568 0.06283791 0.0897420 0.1238490 0.1670810 0.2218829 0.2913538\n",
       " [2,] 0.06283791 0.08787011 0.1215573 0.1645136 0.2192461 0.2889898 0.3778711\n",
       " [3,] 0.08974200 0.12155728 0.1643899 0.2191320 0.2889033 0.3778265 0.4911559\n",
       " [4,] 0.12384898 0.16451357 0.2191320 0.2888998 0.3778248 0.4911592 0.6356006\n",
       " [5,] 0.16708096 0.21924607 0.2889033 0.3778248 0.4911592 0.6356033 0.8196951\n",
       " [6,] 0.22188288 0.28898976 0.3778265 0.4911592 0.6356033 0.8196963 1.0543216\n",
       " [7,] 0.29135376 0.37787112 0.4911559 0.6356006 0.8196951 1.0543216 1.3533508\n",
       " [8,] 0.37942014 0.49106061 0.6354902 0.8196095 1.0542651 1.3533241 1.7344608\n",
       " [9,] 0.49098293 0.63321853 0.8173553 1.0521911 1.3515715 1.7331801 2.2195268\n",
       "[10,] 0.60964773 0.78735399 1.0185972 1.3150586 1.6950728 2.1822311 2.8068024\n",
       "      [,8]      [,9]      [,10]    \n",
       " [1,] 0.3794201 0.4909829 0.6096477\n",
       " [2,] 0.4910606 0.6332185 0.7873540\n",
       " [3,] 0.6354902 0.8173553 1.0185972\n",
       " [4,] 0.8196095 1.0521911 1.3150586\n",
       " [5,] 1.0542651 1.3515715 1.6950728\n",
       " [6,] 1.3533241 1.7331801 2.1822311\n",
       " [7,] 1.7344608 2.2195268 2.8068024\n",
       " [8,] 2.2202015 2.8392570 3.6076263\n",
       " [9,] 2.8392570 3.6288138 4.6345471\n",
       "[10,] 3.6076263 4.6345471 4.7015400"
      ]
     },
     "metadata": {},
     "output_type": "display_data"
    }
   ],
   "source": [
    "environment.to.matrix(environment.value.iteration.estimation())"
   ]
  },
  {
   "cell_type": "code",
   "execution_count": 79,
   "metadata": {},
   "outputs": [
    {
     "data": {
      "image/png": "[encoded data removed]",
      "text/plain": [
       "plot without title"
      ]
     },
     "metadata": {},
     "output_type": "display_data"
    }
   ],
   "source": [
    "environment.to.heatmap(environment.value.iteration.estimation())"
   ]
  },
  {
   "cell_type": "code",
   "execution_count": 82,
   "metadata": {
    "scrolled": true
   },
   "outputs": [
    {
     "data": {
      "text/html": [
       "<table>\n",
       "<tbody>\n",
       "\t<tr><td>0.6484775  </td><td>0.7941065  </td><td>0.8252379  </td><td> 0.5362456 </td><td>-2.370432  </td><td> -4.2338168</td><td>-1.9205297 </td><td> 1.131108  </td><td> 1.5943558 </td><td> 2.038207  </td></tr>\n",
       "\t<tr><td>0.8298519  </td><td>1.0212360  </td><td>1.0660330  </td><td>-1.8679044 </td><td>-6.738219  </td><td> -8.6737545</td><td>-6.3697947 </td><td>-1.294796  </td><td> 1.9283432 </td><td> 2.610469  </td></tr>\n",
       "\t<tr><td>1.0636096  </td><td>1.3165125  </td><td>1.4500773  </td><td>-1.6240250 </td><td>-6.741509  </td><td>-13.9111818</td><td>-9.6492252 </td><td>-5.511043  </td><td>-0.1310127 </td><td> 3.359059  </td></tr>\n",
       "\t<tr><td>1.3602524  </td><td>1.6926988  </td><td>1.9480228  </td><td>-1.2321690 </td><td>-6.323085  </td><td> -7.9776060</td><td>-7.9366798 </td><td>-9.423869  </td><td>-1.9144284 </td><td> 4.390625  </td></tr>\n",
       "\t<tr><td>1.7365722  </td><td>2.1716023  </td><td>2.5898327  </td><td>-0.7255874 </td><td>-5.830730  </td><td> -3.2536255</td><td>-3.2302001 </td><td>-7.419062  </td><td> 1.7189821 </td><td> 9.163101  </td></tr>\n",
       "\t<tr><td>2.2139335  </td><td>2.7810842  </td><td>3.4170998  </td><td>-0.0275631 </td><td>-5.098662  </td><td> -0.5490155</td><td>-0.4766528 </td><td>-2.967563  </td><td> 6.5865225 </td><td>15.357329  </td></tr>\n",
       "\t<tr><td>2.8194227  </td><td>3.5565036  </td><td>4.4823947  </td><td> 3.0280721 </td><td> 2.484033  </td><td>  2.8840929</td><td>-0.4546362 </td><td>-4.894882  </td><td>12.6922773 </td><td>23.299955  </td></tr>\n",
       "\t<tr><td>3.5873784  </td><td>4.5427373  </td><td>5.7961325  </td><td> 7.2919872 </td><td> 6.722347  </td><td>  7.2448494</td><td> 0.9411704 </td><td>12.370385  </td><td>21.1627389 </td><td>33.486138  </td></tr>\n",
       "\t<tr><td>4.5613307  </td><td>5.7982642  </td><td>7.4007672  </td><td> 9.4430185 </td><td>12.011765  </td><td> 12.8927543</td><td>17.1010431 </td><td>23.017541  </td><td>33.7818123 </td><td>46.532351  </td></tr>\n",
       "\t<tr><td>5.7300001  </td><td>7.3196383  </td><td>9.3911594  </td><td>12.0482511 </td><td>15.455919  </td><td> 19.8275379</td><td>25.5010694 </td><td>36.161155  </td><td>46.5869432 </td><td>47.315032  </td></tr>\n",
       "</tbody>\n",
       "</table>\n"
      ],
      "text/latex": [
       "\\begin{tabular}{llllllllll}\n",
       "\t 0.6484775   & 0.7941065   & 0.8252379   &  0.5362456  & -2.370432   &  -4.2338168 & -1.9205297  &  1.131108   &  1.5943558  &  2.038207  \\\\\n",
       "\t 0.8298519   & 1.0212360   & 1.0660330   & -1.8679044  & -6.738219   &  -8.6737545 & -6.3697947  & -1.294796   &  1.9283432  &  2.610469  \\\\\n",
       "\t 1.0636096   & 1.3165125   & 1.4500773   & -1.6240250  & -6.741509   & -13.9111818 & -9.6492252  & -5.511043   & -0.1310127  &  3.359059  \\\\\n",
       "\t 1.3602524   & 1.6926988   & 1.9480228   & -1.2321690  & -6.323085   &  -7.9776060 & -7.9366798  & -9.423869   & -1.9144284  &  4.390625  \\\\\n",
       "\t 1.7365722   & 2.1716023   & 2.5898327   & -0.7255874  & -5.830730   &  -3.2536255 & -3.2302001  & -7.419062   &  1.7189821  &  9.163101  \\\\\n",
       "\t 2.2139335   & 2.7810842   & 3.4170998   & -0.0275631  & -5.098662   &  -0.5490155 & -0.4766528  & -2.967563   &  6.5865225  & 15.357329  \\\\\n",
       "\t 2.8194227   & 3.5565036   & 4.4823947   &  3.0280721  &  2.484033   &   2.8840929 & -0.4546362  & -4.894882   & 12.6922773  & 23.299955  \\\\\n",
       "\t 3.5873784   & 4.5427373   & 5.7961325   &  7.2919872  &  6.722347   &   7.2448494 &  0.9411704  & 12.370385   & 21.1627389  & 33.486138  \\\\\n",
       "\t 4.5613307   & 5.7982642   & 7.4007672   &  9.4430185  & 12.011765   &  12.8927543 & 17.1010431  & 23.017541   & 33.7818123  & 46.532351  \\\\\n",
       "\t 5.7300001   & 7.3196383   & 9.3911594   & 12.0482511  & 15.455919   &  19.8275379 & 25.5010694  & 36.161155   & 46.5869432  & 47.315032  \\\\\n",
       "\\end{tabular}\n"
      ],
      "text/markdown": [
       "\n",
       "| 0.6484775   | 0.7941065   | 0.8252379   |  0.5362456  | -2.370432   |  -4.2338168 | -1.9205297  |  1.131108   |  1.5943558  |  2.038207   | \n",
       "| 0.8298519   | 1.0212360   | 1.0660330   | -1.8679044  | -6.738219   |  -8.6737545 | -6.3697947  | -1.294796   |  1.9283432  |  2.610469   | \n",
       "| 1.0636096   | 1.3165125   | 1.4500773   | -1.6240250  | -6.741509   | -13.9111818 | -9.6492252  | -5.511043   | -0.1310127  |  3.359059   | \n",
       "| 1.3602524   | 1.6926988   | 1.9480228   | -1.2321690  | -6.323085   |  -7.9776060 | -7.9366798  | -9.423869   | -1.9144284  |  4.390625   | \n",
       "| 1.7365722   | 2.1716023   | 2.5898327   | -0.7255874  | -5.830730   |  -3.2536255 | -3.2302001  | -7.419062   |  1.7189821  |  9.163101   | \n",
       "| 2.2139335   | 2.7810842   | 3.4170998   | -0.0275631  | -5.098662   |  -0.5490155 | -0.4766528  | -2.967563   |  6.5865225  | 15.357329   | \n",
       "| 2.8194227   | 3.5565036   | 4.4823947   |  3.0280721  |  2.484033   |   2.8840929 | -0.4546362  | -4.894882   | 12.6922773  | 23.299955   | \n",
       "| 3.5873784   | 4.5427373   | 5.7961325   |  7.2919872  |  6.722347   |   7.2448494 |  0.9411704  | 12.370385   | 21.1627389  | 33.486138   | \n",
       "| 4.5613307   | 5.7982642   | 7.4007672   |  9.4430185  | 12.011765   |  12.8927543 | 17.1010431  | 23.017541   | 33.7818123  | 46.532351   | \n",
       "| 5.7300001   | 7.3196383   | 9.3911594   | 12.0482511  | 15.455919   |  19.8275379 | 25.5010694  | 36.161155   | 46.5869432  | 47.315032   | \n",
       "\n",
       "\n"
      ],
      "text/plain": [
       "      [,1]      [,2]      [,3]      [,4]       [,5]      [,6]        [,7]      \n",
       " [1,] 0.6484775 0.7941065 0.8252379  0.5362456 -2.370432  -4.2338168 -1.9205297\n",
       " [2,] 0.8298519 1.0212360 1.0660330 -1.8679044 -6.738219  -8.6737545 -6.3697947\n",
       " [3,] 1.0636096 1.3165125 1.4500773 -1.6240250 -6.741509 -13.9111818 -9.6492252\n",
       " [4,] 1.3602524 1.6926988 1.9480228 -1.2321690 -6.323085  -7.9776060 -7.9366798\n",
       " [5,] 1.7365722 2.1716023 2.5898327 -0.7255874 -5.830730  -3.2536255 -3.2302001\n",
       " [6,] 2.2139335 2.7810842 3.4170998 -0.0275631 -5.098662  -0.5490155 -0.4766528\n",
       " [7,] 2.8194227 3.5565036 4.4823947  3.0280721  2.484033   2.8840929 -0.4546362\n",
       " [8,] 3.5873784 4.5427373 5.7961325  7.2919872  6.722347   7.2448494  0.9411704\n",
       " [9,] 4.5613307 5.7982642 7.4007672  9.4430185 12.011765  12.8927543 17.1010431\n",
       "[10,] 5.7300001 7.3196383 9.3911594 12.0482511 15.455919  19.8275379 25.5010694\n",
       "      [,8]      [,9]       [,10]    \n",
       " [1,]  1.131108  1.5943558  2.038207\n",
       " [2,] -1.294796  1.9283432  2.610469\n",
       " [3,] -5.511043 -0.1310127  3.359059\n",
       " [4,] -9.423869 -1.9144284  4.390625\n",
       " [5,] -7.419062  1.7189821  9.163101\n",
       " [6,] -2.967563  6.5865225 15.357329\n",
       " [7,] -4.894882 12.6922773 23.299955\n",
       " [8,] 12.370385 21.1627389 33.486138\n",
       " [9,] 23.017541 33.7818123 46.532351\n",
       "[10,] 36.161155 46.5869432 47.315032"
      ]
     },
     "metadata": {},
     "output_type": "display_data"
    }
   ],
   "source": [
    "environment.to.matrix(environment.value.iteration.estimation(reward_type=2))"
   ]
  },
  {
   "cell_type": "code",
   "execution_count": 80,
   "metadata": {},
   "outputs": [
    {
     "data": {
      "image/png": "[encoded data removed]",
      "text/plain": [
       "plot without title"
      ]
     },
     "metadata": {},
     "output_type": "display_data"
    }
   ],
   "source": [
    "environment.to.heatmap(environment.value.iteration.estimation(reward_type=2))"
   ]
  },
  {
   "cell_type": "code",
   "execution_count": 90,
   "metadata": {},
   "outputs": [],
   "source": [
    "environment.value.iteration = function ( wind_prob=0.1, reward_type=1, discount=0.8, epsilon=0.01 ) {\n",
    "    states <- 0:99\n",
    "    actions <- c('u','d','l','r')\n",
    "    reward <- environment.reward(reward_type)\n",
    "    \n",
    "    values <- environment.value.iteration.estimation(wind_prob, reward_type, discount, epsilon)\n",
    "    \n",
    "    moves <- vector('character', 100)\n",
    "    for (s in states) {\n",
    "        action_values <- numeric(length(actions))\n",
    "        for ( i in 1:length(actions) ) {\n",
    "            action_values[i] <- sum(environment.action.probability(s, actions[i], wind_prob) * (reward + discount * values))\n",
    "        }\n",
    "        moves[s+1] <- actions[which.max(action_values)]\n",
    "    }\n",
    "    return(moves)\n",
    "}"
   ]
  },
  {
   "cell_type": "code",
   "execution_count": 93,
   "metadata": {},
   "outputs": [
    {
     "data": {
      "text/html": [
       "<table>\n",
       "<tbody>\n",
       "\t<tr><td>d</td><td>d</td><td>d</td><td>l</td><td>l</td><td>r</td><td>r</td><td>r</td><td>r</td><td>d</td></tr>\n",
       "\t<tr><td>d</td><td>d</td><td>d</td><td>l</td><td>l</td><td>u</td><td>r</td><td>r</td><td>r</td><td>d</td></tr>\n",
       "\t<tr><td>d</td><td>d</td><td>d</td><td>l</td><td>l</td><td>d</td><td>r</td><td>r</td><td>r</td><td>d</td></tr>\n",
       "\t<tr><td>d</td><td>d</td><td>d</td><td>l</td><td>l</td><td>d</td><td>d</td><td>u</td><td>r</td><td>d</td></tr>\n",
       "\t<tr><td>d</td><td>d</td><td>d</td><td>l</td><td>l</td><td>d</td><td>d</td><td>d</td><td>r</td><td>d</td></tr>\n",
       "\t<tr><td>d</td><td>d</td><td>d</td><td>l</td><td>l</td><td>d</td><td>d</td><td>l</td><td>r</td><td>d</td></tr>\n",
       "\t<tr><td>d</td><td>d</td><td>d</td><td>d</td><td>d</td><td>d</td><td>l</td><td>l</td><td>r</td><td>d</td></tr>\n",
       "\t<tr><td>d</td><td>d</td><td>d</td><td>d</td><td>d</td><td>d</td><td>l</td><td>d</td><td>d</td><td>d</td></tr>\n",
       "\t<tr><td>r</td><td>r</td><td>r</td><td>d</td><td>d</td><td>d</td><td>d</td><td>d</td><td>d</td><td>d</td></tr>\n",
       "\t<tr><td>r</td><td>r</td><td>r</td><td>r</td><td>r</td><td>r</td><td>r</td><td>r</td><td>r</td><td>d</td></tr>\n",
       "</tbody>\n",
       "</table>\n"
      ],
      "text/latex": [
       "\\begin{tabular}{llllllllll}\n",
       "\t d & d & d & l & l & r & r & r & r & d\\\\\n",
       "\t d & d & d & l & l & u & r & r & r & d\\\\\n",
       "\t d & d & d & l & l & d & r & r & r & d\\\\\n",
       "\t d & d & d & l & l & d & d & u & r & d\\\\\n",
       "\t d & d & d & l & l & d & d & d & r & d\\\\\n",
       "\t d & d & d & l & l & d & d & l & r & d\\\\\n",
       "\t d & d & d & d & d & d & l & l & r & d\\\\\n",
       "\t d & d & d & d & d & d & l & d & d & d\\\\\n",
       "\t r & r & r & d & d & d & d & d & d & d\\\\\n",
       "\t r & r & r & r & r & r & r & r & r & d\\\\\n",
       "\\end{tabular}\n"
      ],
      "text/markdown": [
       "\n",
       "| d | d | d | l | l | r | r | r | r | d | \n",
       "| d | d | d | l | l | u | r | r | r | d | \n",
       "| d | d | d | l | l | d | r | r | r | d | \n",
       "| d | d | d | l | l | d | d | u | r | d | \n",
       "| d | d | d | l | l | d | d | d | r | d | \n",
       "| d | d | d | l | l | d | d | l | r | d | \n",
       "| d | d | d | d | d | d | l | l | r | d | \n",
       "| d | d | d | d | d | d | l | d | d | d | \n",
       "| r | r | r | d | d | d | d | d | d | d | \n",
       "| r | r | r | r | r | r | r | r | r | d | \n",
       "\n",
       "\n"
      ],
      "text/plain": [
       "      [,1] [,2] [,3] [,4] [,5] [,6] [,7] [,8] [,9] [,10]\n",
       " [1,] d    d    d    l    l    r    r    r    r    d    \n",
       " [2,] d    d    d    l    l    u    r    r    r    d    \n",
       " [3,] d    d    d    l    l    d    r    r    r    d    \n",
       " [4,] d    d    d    l    l    d    d    u    r    d    \n",
       " [5,] d    d    d    l    l    d    d    d    r    d    \n",
       " [6,] d    d    d    l    l    d    d    l    r    d    \n",
       " [7,] d    d    d    d    d    d    l    l    r    d    \n",
       " [8,] d    d    d    d    d    d    l    d    d    d    \n",
       " [9,] r    r    r    d    d    d    d    d    d    d    \n",
       "[10,] r    r    r    r    r    r    r    r    r    d    "
      ]
     },
     "metadata": {},
     "output_type": "display_data"
    }
   ],
   "source": [
    "environment.to.matrix(environment.value.iteration(reward_type=2))"
   ]
  },
  {
   "cell_type": "code",
   "execution_count": null,
   "metadata": {},
   "outputs": [],
   "source": []
  }
 ],
 "metadata": {
  "kernelspec": {
   "display_name": "R",
   "language": "R",
   "name": "ir"
  },
  "language_info": {
   "codemirror_mode": "r",
   "file_extension": ".r",
   "mimetype": "text/x-r-source",
   "name": "R",
   "pygments_lexer": "r",
   "version": "3.4.4"
  }
 },
 "nbformat": 4,
 "nbformat_minor": 2
}
