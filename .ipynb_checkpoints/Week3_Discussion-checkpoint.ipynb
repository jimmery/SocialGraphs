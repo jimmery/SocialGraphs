{
 "cells": [
  {
   "cell_type": "markdown",
   "metadata": {},
   "source": [
    "## Basic operation in R"
   ]
  },
  {
   "cell_type": "code",
   "execution_count": 5,
   "metadata": {},
   "outputs": [
    {
     "name": "stdout",
     "output_type": "stream",
     "text": [
      "[1] 1 2 3 4\n",
      "[1] 2 2 2 2\n",
      "[1] 2\n"
     ]
    },
    {
     "data": {
      "text/html": [
       "<ol class=list-inline>\n",
       "\t<li>1</li>\n",
       "\t<li>2</li>\n",
       "\t<li>3</li>\n",
       "\t<li>4</li>\n",
       "</ol>\n"
      ],
      "text/latex": [
       "\\begin{enumerate*}\n",
       "\\item 1\n",
       "\\item 2\n",
       "\\item 3\n",
       "\\item 4\n",
       "\\end{enumerate*}\n"
      ],
      "text/markdown": [
       "1. 1\n",
       "2. 2\n",
       "3. 3\n",
       "4. 4\n",
       "\n",
       "\n"
      ],
      "text/plain": [
       "[1] 1 2 3 4"
      ]
     },
     "metadata": {},
     "output_type": "display_data"
    },
    {
     "data": {
      "text/html": [
       "1"
      ],
      "text/latex": [
       "1"
      ],
      "text/markdown": [
       "1"
      ],
      "text/plain": [
       "[1] 1"
      ]
     },
     "metadata": {},
     "output_type": "display_data"
    },
    {
     "name": "stdout",
     "output_type": "stream",
     "text": [
      "[1] TRUE\n",
      "     nodeid com id\n",
      "[1,]      1      1\n",
      "[2,]      1      1\n"
     ]
    },
    {
     "data": {
      "text/plain": [
       "Time difference of 0.003164053 secs"
      ]
     },
     "metadata": {},
     "output_type": "display_data"
    },
    {
     "data": {
      "text/html": [
       "<strong>pdf:</strong> 2"
      ],
      "text/latex": [
       "\\textbf{pdf:} 2"
      ],
      "text/markdown": [
       "**pdf:** 2"
      ],
      "text/plain": [
       "pdf \n",
       "  2 "
      ]
     },
     "metadata": {},
     "output_type": "display_data"
    }
   ],
   "source": [
    "dim_list<-vector(\"numeric\", 7)\n",
    "# remove one element in the list\n",
    "m = seq(1,5,1)\n",
    "m <- m[-5] # removes the fifth element of m.\n",
    "print(m)\n",
    "# set operation:\n",
    "n<-rep(2,4)\n",
    "print(n)\n",
    "print(intersect(m,n))\n",
    "union(m,n)\n",
    "length(intersect(m,n)) # use this to find the number of intersection. \n",
    "print('1' %in% m ) # use this to check if 1 is in the set. \n",
    "# create table with colnames\n",
    "table1<-matrix(1,2,2) #(number to fill, rows, cols)\n",
    "colnames(table1) <- c('nodeid','com id')\n",
    "print(table1)\n",
    "# record running time\n",
    "start.time <- Sys.time()\n",
    "end.time <- Sys.time()\n",
    "end.time-start.time\n",
    "# save plots\n",
    "i = 10\n",
    "png(paste('./test',i,'.png',sep='')) #plot to disk. \n",
    "plot(hist(m))\n",
    "dev.off() #closes file. "
   ]
  },
  {
   "cell_type": "code",
   "execution_count": 7,
   "metadata": {},
   "outputs": [
    {
     "name": "stdout",
     "output_type": "stream",
     "text": [
      "[1]  1  3  5  7 11\n",
      "[1] TRUE\n"
     ]
    }
   ],
   "source": [
    "# remove one element in the list\n",
    "m = seq(1,12,2)\n",
    "m <- m[-5] # removes the fifth element of m.\n",
    "print(m)\n",
    "print(1 %in% m ) # use this to check if 1 is in the set. \n"
   ]
  },
  {
   "cell_type": "markdown",
   "metadata": {},
   "source": [
    "### Sort function"
   ]
  },
  {
   "cell_type": "code",
   "execution_count": 8,
   "metadata": {},
   "outputs": [
    {
     "name": "stdout",
     "output_type": "stream",
     "text": [
      "[1]  5  1  2  3  4 10\n",
      "$x\n",
      "[1] 10  5  4  3  2  1\n",
      "\n",
      "$ix\n",
      "[1] 6 1 5 4 3 2\n",
      "\n"
     ]
    }
   ],
   "source": [
    "m <- c(5,seq(1,4),10)\n",
    "print(m)\n",
    "n<-sort(m,decreasing=TRUE, index.return=TRUE)\n",
    "print(n)\n",
    "# get the 5th largest element's index\n",
    "#print(n$x[5])"
   ]
  },
  {
   "cell_type": "markdown",
   "metadata": {},
   "source": [
    "### Construct a list with specific pattern"
   ]
  },
  {
   "cell_type": "code",
   "execution_count": 17,
   "metadata": {},
   "outputs": [
    {
     "name": "stdout",
     "output_type": "stream",
     "text": [
      "[[1]]\n",
      "[1] 1\n",
      "\n",
      "[[2]]\n",
      "[1] 4\n",
      "\n",
      "[[3]]\n",
      "[1] 9\n",
      "\n",
      "[[4]]\n",
      "[1] 16\n",
      "\n",
      "[[5]]\n",
      "[1] 25\n",
      "\n",
      " [1] 10  1 10  2 10  3 10  4 10  5\n",
      "[1] 55\n"
     ]
    }
   ],
   "source": [
    "m<-seq(1,5)\n",
    "n<-lapply(m,function(x) c(10, x))\n",
    "j = lapply(m, function(x) x^2 )\n",
    "print(j)\n",
    "#cal_n <- do.call('c',lapply(m,function(x) c(10, x))) \n",
    "cal_n <- do.call('c',n) \n",
    "sum_j <- do.call('sum',j)\n",
    "print(cal_n)\n",
    "print(sum_j)"
   ]
  },
  {
   "cell_type": "code",
   "execution_count": 4,
   "metadata": {},
   "outputs": [
    {
     "data": {
      "text/html": [
       "<span style=white-space:pre-wrap>'TEST1  TEST2'</span>"
      ],
      "text/latex": [
       "'TEST1  TEST2'"
      ],
      "text/markdown": [
       "<span style=white-space:pre-wrap>'TEST1  TEST2'</span>"
      ],
      "text/plain": [
       "[1] \"TEST1  TEST2\""
      ]
     },
     "metadata": {},
     "output_type": "display_data"
    },
    {
     "data": {
      "text/html": [
       "<ol class=list-inline>\n",
       "\t<li>3.3</li>\n",
       "\t<li>1.8</li>\n",
       "\t<li>1.6</li>\n",
       "\t<li>0.5</li>\n",
       "\t<li>0.3</li>\n",
       "\t<li>0.1</li>\n",
       "\t<li>48.8</li>\n",
       "\t<li>1.1</li>\n",
       "</ol>\n"
      ],
      "text/latex": [
       "\\begin{enumerate*}\n",
       "\\item 3.3\n",
       "\\item 1.8\n",
       "\\item 1.6\n",
       "\\item 0.5\n",
       "\\item 0.3\n",
       "\\item 0.1\n",
       "\\item 48.8\n",
       "\\item 1.1\n",
       "\\end{enumerate*}\n"
      ],
      "text/markdown": [
       "1. 3.3\n",
       "2. 1.8\n",
       "3. 1.6\n",
       "4. 0.5\n",
       "5. 0.3\n",
       "6. 0.1\n",
       "7. 48.8\n",
       "8. 1.1\n",
       "\n",
       "\n"
      ],
      "text/plain": [
       "[1]  3.3  1.8  1.6  0.5  0.3  0.1 48.8  1.1"
      ]
     },
     "metadata": {},
     "output_type": "display_data"
    }
   ],
   "source": [
    "library(magrittr)\n",
    "# Pipes can be chained as well\n",
    "str1<-\"test1 \"\n",
    "str2<-\"test2\"\n",
    "str1 %>% paste(str2) %>% toupper()\n",
    "x <- c(0.109, 0.359, 0.63, 0.996, 0.515, 0.142, 0.017, 0.829, 0.907)\n",
    "x %>% log() %>%\n",
    "    diff() %>%\n",
    "    exp() %>%\n",
    "    round(1) "
   ]
  },
  {
   "cell_type": "markdown",
   "metadata": {},
   "source": [
    "## Basic operation in igraph"
   ]
  },
  {
   "cell_type": "code",
   "execution_count": 7,
   "metadata": {
    "scrolled": false
   },
   "outputs": [
    {
     "data": {
      "text/html": [
       "<ol class=list-inline>\n",
       "\t<li>1</li>\n",
       "\t<li>2</li>\n",
       "\t<li>3</li>\n",
       "\t<li>4</li>\n",
       "\t<li>5</li>\n",
       "</ol>\n"
      ],
      "text/latex": [
       "\\begin{enumerate*}\n",
       "\\item 1\n",
       "\\item 2\n",
       "\\item 3\n",
       "\\item 4\n",
       "\\item 5\n",
       "\\end{enumerate*}\n"
      ],
      "text/markdown": [
       "1. 1\n",
       "2. 2\n",
       "3. 3\n",
       "4. 4\n",
       "5. 5\n",
       "\n",
       "\n"
      ],
      "text/plain": [
       "[1] 1 2 3 4 5"
      ]
     },
     "metadata": {},
     "output_type": "display_data"
    },
    {
     "data": {
      "image/png": "[encoded data removed]",
      "text/plain": [
       "Plot with title \"\""
      ]
     },
     "metadata": {},
     "output_type": "display_data"
    },
    {
     "data": {
      "image/png": "[encoded data removed]",
      "text/plain": [
       "Plot with title \"\""
      ]
     },
     "metadata": {},
     "output_type": "display_data"
    },
    {
     "data": {
      "image/png": "[encoded data removed]",
      "text/plain": [
       "Plot with title \"\""
      ]
     },
     "metadata": {},
     "output_type": "display_data"
    }
   ],
   "source": [
    "# set node id,so you can track it even inside the induced subgraph\n",
    "# delete vertice\n",
    "library(igraph)\n",
    "g<-make_ring(5,directed = FALSE)\n",
    "V(g)$vid <- seq(1, vcount(g))\n",
    "plot(g, vertex.label=V(g)$vid)\n",
    "del_g<-delete.vertices(g,c(3,5))\n",
    "plot(del_g, vertex.label=V(del_g)$vid)\n",
    "# construct graph from edgelist\n",
    "# add edgelist\n",
    "final_g <- add.edges(g,c(1,3,1,4))\n",
    "plot(final_g)"
   ]
  },
  {
   "cell_type": "code",
   "execution_count": 5,
   "metadata": {
    "scrolled": false
   },
   "outputs": [
    {
     "name": "stdout",
     "output_type": "stream",
     "text": [
      "[1] 1 4 5\n"
     ]
    }
   ],
   "source": [
    "# add property\n",
    "#get.vertex.attribute(g,\"vid\")\n",
    "V(g)$vid <- seq(1, vcount(g))\n",
    "#print(get.vertex.attribute(g,\"vid\"))\n",
    "del_g<-delete.vertices(g,c(2,3))\n",
    "#plot(del_g,V(del_g)$vid)\n",
    "#plot(del_g,vertex.label=NA)\n",
    "#plot(del_g)\n",
    "print(V(del_g)$vid)"
   ]
  },
  {
   "cell_type": "code",
   "execution_count": 8,
   "metadata": {},
   "outputs": [],
   "source": [
    "#int_graph <- read.graph(paste(file_path,edge_files,sep=\"\"),format=\"ncol\",directed=TRUE)"
   ]
  },
  {
   "cell_type": "code",
   "execution_count": 9,
   "metadata": {},
   "outputs": [
    {
     "name": "stdout",
     "output_type": "stream",
     "text": [
      "[1] 0\n",
      "[1] 0.5\n"
     ]
    }
   ],
   "source": [
    "# properties in the graph\n",
    "g<-make_ring(5)\n",
    "print(transitivity(g)) # number of triangles / possible number of triangles? \n",
    "print(graph.density(g)) # number of edges / possible number of edges. \n",
    "\n",
    "# one of these is called the clustering coefficient. "
   ]
  },
  {
   "cell_type": "code",
   "execution_count": 20,
   "metadata": {},
   "outputs": [],
   "source": [
    "# set color and size for nodes\n",
    "g3<-make_full_graph(5)\n",
    "imc = infomap.community(g3)\n",
    "colors = rainbow(max(membership(imc))+1)\n",
    "nodes_colors = colors[1:(length(colors)-1)]\n",
    "V(g3)$color = nodes_colors[membership(imc)] \n",
    "V(g3)$size= 5\n",
    "V(g3)[1]$color = colors[length(colors)] \n",
    "V(g3)[1]$size = 15\n",
    "#core_nodeid = which(V(sub_graph)$vid == "
   ]
  },
  {
   "cell_type": "code",
   "execution_count": 51,
   "metadata": {},
   "outputs": [
    {
     "data": {
      "text/html": [
       "<ol class=list-inline>\n",
       "\t<li>'#FF0000FF'</li>\n",
       "\t<li>'#CCFF00FF'</li>\n",
       "\t<li>'#00FF66FF'</li>\n",
       "\t<li>'#0066FFFF'</li>\n",
       "\t<li>'#CC00FFFF'</li>\n",
       "</ol>\n"
      ],
      "text/latex": [
       "\\begin{enumerate*}\n",
       "\\item '\\#FF0000FF'\n",
       "\\item '\\#CCFF00FF'\n",
       "\\item '\\#00FF66FF'\n",
       "\\item '\\#0066FFFF'\n",
       "\\item '\\#CC00FFFF'\n",
       "\\end{enumerate*}\n"
      ],
      "text/markdown": [
       "1. '#FF0000FF'\n",
       "2. '#CCFF00FF'\n",
       "3. '#00FF66FF'\n",
       "4. '#0066FFFF'\n",
       "5. '#CC00FFFF'\n",
       "\n",
       "\n"
      ],
      "text/plain": [
       "[1] \"#FF0000FF\" \"#CCFF00FF\" \"#00FF66FF\" \"#0066FFFF\" \"#CC00FFFF\""
      ]
     },
     "metadata": {},
     "output_type": "display_data"
    }
   ],
   "source": [
    "#color<-rainbow(5)\n",
    "#color[1]"
   ]
  },
  {
   "cell_type": "markdown",
   "metadata": {},
   "source": [
    "### Homogeneity\n",
    "1. A clustering result satisfies homogeneity if all of its clusters contain only data points which are members of a single class. \n",
    "\n",
    "Here C is the classes, K is the clusters.\n",
    "[//]: <img src=\"homogeneity.png\"/>\n",
    "### Completeness \n",
    "1. A clustering result satisfies completeness if all the data points that are members of a given class are elements of the same cluster.\n",
    "<img src=\"completeness.png\"/>"
   ]
  },
  {
   "cell_type": "code",
   "execution_count": null,
   "metadata": {},
   "outputs": [],
   "source": [
    "#install.packages('entropy')\n",
    "library('entropy')\n",
    "data = c(1,1,2)\n",
    "entropy(table(data))\n",
    "print(table(data))\n",
    "# calculate entropy\n",
    "entropy(c(2,2))\n",
    "entropy.empirical(c(1,2))"
   ]
  },
  {
   "cell_type": "markdown",
   "metadata": {},
   "source": [
    "## Visualization graphs with interaction:\n",
    "1. tkplot\n",
    "2. visNetwork https://datastorm-open.github.io/visNetwork/options.html\n",
    "3. gephi"
   ]
  },
  {
   "cell_type": "code",
   "execution_count": null,
   "metadata": {},
   "outputs": [],
   "source": [
    "tkplot(g)"
   ]
  },
  {
   "cell_type": "code",
   "execution_count": null,
   "metadata": {},
   "outputs": [],
   "source": [
    "# Rstudio\n",
    "install.packages('visNetwork')\n",
    "library(visNetwork)"
   ]
  },
  {
   "cell_type": "code",
   "execution_count": null,
   "metadata": {},
   "outputs": [],
   "source": [
    "## Some extra notes that I just found on the board somehow\n",
    "v1.edges # only has information about neighbors, and not about itself. \n",
    "#thus, we need to add the edges including itself. \n",
    "add.edge(g, c(1,5)) # adding a single edge. \n",
    "add.edge(g, edgelist) # add a list of edges. \n",
    "\n",
    "# something about 132 core nodes. and multiplied by 5. \n",
    "# something about .feat and .circle. \n",
    "# something about file operations and graph construction requirements. \n",
    "\n",
    "plot(g, vertex.label=V(g)$vid)\n"
   ]
  },
  {
   "cell_type": "markdown",
   "metadata": {},
   "source": [
    "## Project Statement notes: \n"
   ]
  },
  {
   "cell_type": "markdown",
   "metadata": {},
   "source": [
    "First, we find structural properties of the larger graph. \n",
    "\n",
    "Then, we will be constructing a smaller graph (personalized network). FB data is defined from 0 to something. We can construct the inital graph from a function called read.graph(paste(file_path, edge_files, sep=\"\"), format=\"ncol\", directed=F). We will need to do a little bit of index switching, since FB data starts from 0, while R starts from 1. We mainly have to be careful that when deleting things, we keep the same index as the original. \n",
    "\n",
    "A core node is a node with a personalized graph of more than 200 nodes. Question: how many core nodes? Community structure. We select 5 core nodes (guaranteed by TAs). Use a community structure with one of the algorithms to capture community strcture. \n",
    "\n",
    "I'm not sure what this is for right now but: \n",
    "intersect( neighbors(core node), neighbors(node 1) )\n",
    "remember that because neighbors (core node) = the entire sample space, this intersection is unnecessary. intersect( neighbors(core node), neighbors(node 1) ) = neighbors(node 1)\n",
    "\n",
    "We can also think about how to use adjacency matrices, especially in situations where we may want to calculate neighbors frequently. \n",
    "\n",
    "Dispersion is the sum of distances between every pair of mutual friends. \n",
    "\n",
    "Completeness, entropy, homogeneity, etc. Used as a way to measure the accuracy of information where permutations, or naming convention differences, may be present. \n",
    " - circle information. \n",
    " - true label. \n",
    " - homogeneity: how \"pure\" the community is. \n",
    " - completeness: how much circle completely covers?"
   ]
  },
  {
   "cell_type": "code",
   "execution_count": null,
   "metadata": {},
   "outputs": [],
   "source": []
  }
 ],
 "metadata": {
  "kernelspec": {
   "display_name": "R",
   "language": "R",
   "name": "ir"
  },
  "language_info": {
   "codemirror_mode": "r",
   "file_extension": ".r",
   "mimetype": "text/x-r-source",
   "name": "R",
   "pygments_lexer": "r",
   "version": "3.4.4"
  }
 },
 "nbformat": 4,
 "nbformat_minor": 2
}
